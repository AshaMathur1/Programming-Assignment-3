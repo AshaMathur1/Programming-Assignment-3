{
 "cells": [
  {
   "cell_type": "code",
   "execution_count": 13,
   "id": "91eb8939",
   "metadata": {},
   "outputs": [
    {
     "name": "stdout",
     "output_type": "stream",
     "text": [
      "enter a number:67\n",
      "Number is Positive 67.0\n"
     ]
    }
   ],
   "source": [
    "# 1.\tWrite a Python Program to Check if a Number is Positive, Negative or Zero?\n",
    "\n",
    "Number = float (input(\"enter a number:\"))\n",
    "\n",
    "if Number >0:\n",
    "    print (\"Number is Positive\", Number)\n",
    "    \n",
    "elif Number ==0:\n",
    "    print (\"Number is Zero\", Number)\n",
    "else :\n",
    "    print (\"Number is negative\", Number)"
   ]
  },
  {
   "cell_type": "code",
   "execution_count": 18,
   "id": "d2a5b1fc",
   "metadata": {},
   "outputs": [
    {
     "name": "stdout",
     "output_type": "stream",
     "text": [
      "Enter a number:67\n",
      "Number is odd 67.0\n"
     ]
    }
   ],
   "source": [
    "# 2.\tWrite a Python Program to Check if a Number is Odd or Even?\n",
    "\n",
    "N = float (input(\"Enter a number:\"))\n",
    "\n",
    "if N%2 ==0:\n",
    "    print(\" Number is even\", N)\n",
    "    \n",
    "else:\n",
    "    print (\"Number is odd\", N)"
   ]
  },
  {
   "cell_type": "code",
   "execution_count": 5,
   "id": "f3c38a1d",
   "metadata": {},
   "outputs": [
    {
     "name": "stdout",
     "output_type": "stream",
     "text": [
      "enter a year in yyyy format:1992\n",
      "Year is a leap year\n"
     ]
    }
   ],
   "source": [
    " # 3.\tWrite a Python Program to Check Leap Year?\n",
    "    \n",
    "Y = int(input(\"enter a year in yyyy format:\"))\n",
    "    \n",
    "if Y%4 == 0:\n",
    "    print(\"Year is a leap year\")\n",
    "        \n",
    "else:\n",
    "    print(\"Not a leap year\")"
   ]
  },
  {
   "cell_type": "code",
   "execution_count": 13,
   "id": "56a71836",
   "metadata": {},
   "outputs": [
    {
     "name": "stdout",
     "output_type": "stream",
     "text": [
      "Enter a number:67\n",
      "67 is a prime number\n"
     ]
    }
   ],
   "source": [
    "# 4.\tWrite a Python Program to Check Prime Number?\n",
    "\n",
    "N = int(input(\"Enter a number:\"))\n",
    "flag = False\n",
    "\n",
    "if N >1: #Prime numbers are greater than 1 \n",
    " for i in range (2,N):\n",
    "    if (N%i)==0:\n",
    "        Flag = True\n",
    "        break\n",
    "        \n",
    "# check if flag is true\n",
    "\n",
    "if flag ==True:\n",
    "    print (N,\"Not a prime number\")\n",
    "    \n",
    "else:\n",
    "    print (N, \"is a prime number\")"
   ]
  },
  {
   "cell_type": "code",
   "execution_count": null,
   "id": "496f80b1",
   "metadata": {},
   "outputs": [],
   "source": [
    "# 5.\tWrite a Python Program to Print all Prime Numbers in an Interval of 1-10000?\n",
    "\n",
    "#First we will take the inputs\n",
    "\n",
    "lower_number = int(input(\"Enter lower value of the range:\"))\n",
    "upper_number = int(input(\"Enter upper value of the range:\"))\n",
    "\n",
    "print(\"The prime numbers in the range are:\")\n",
    "for number in range(lower_number,upper_number +1):\n",
    "    if number>1:\n",
    "        for i in range(2,number):\n",
    "            if (number %i) ==0:\n",
    "                break\n",
    "    else:\n",
    "        \n",
    "        print (number)\n",
    "       \n",
    "    \n",
    "    "
   ]
  },
  {
   "cell_type": "code",
   "execution_count": null,
   "id": "f3de62a8",
   "metadata": {},
   "outputs": [],
   "source": []
  },
  {
   "cell_type": "code",
   "execution_count": null,
   "id": "d579168e",
   "metadata": {},
   "outputs": [],
   "source": []
  }
 ],
 "metadata": {
  "kernelspec": {
   "display_name": "Python 3 (ipykernel)",
   "language": "python",
   "name": "python3"
  },
  "language_info": {
   "codemirror_mode": {
    "name": "ipython",
    "version": 3
   },
   "file_extension": ".py",
   "mimetype": "text/x-python",
   "name": "python",
   "nbconvert_exporter": "python",
   "pygments_lexer": "ipython3",
   "version": "3.9.7"
  }
 },
 "nbformat": 4,
 "nbformat_minor": 5
}
